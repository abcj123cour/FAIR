{
 "cells": [
  {
   "cell_type": "markdown",
   "id": "0",
   "metadata": {},
   "source": [
    "# Run the n-layer energy balance model\n",
    "\n",
    "This notebook shows examples of extending the 3-layer energy balance model to general n.\n",
    "\n",
    "For the two and three layer cases we'll take the MLE estimates from Cummins et al. (2020) for HadGEM2-ES, and we'll use the GISS forcing. Where n > 3 the data is fake."
   ]
  },
  {
   "cell_type": "code",
   "execution_count": 1,
   "id": "1",
   "metadata": {},
   "outputs": [
    {
     "name": "stderr",
     "output_type": "stream",
     "text": [
      "c:\\Users\\JamesK\\anaconda3\\Lib\\site-packages\\paramiko\\transport.py:219: CryptographyDeprecationWarning: Blowfish has been deprecated and will be removed in a future release\n",
      "  \"class\": algorithms.Blowfish,\n"
     ]
    }
   ],
   "source": [
    "import matplotlib.pyplot as pl\n",
    "import numpy as np\n",
    "import pandas as pd\n",
    "import pooch\n",
    "\n",
    "from fair.energy_balance_model import EnergyBalanceModel"
   ]
  },
  {
   "cell_type": "code",
   "execution_count": 2,
   "id": "2",
   "metadata": {},
   "outputs": [
    {
     "ename": "FileNotFoundError",
     "evalue": "[Errno 2] No such file or directory: '../tests/test_data/RFMIP_ERF_tier2_GISS-E2-1-G.csv'",
     "output_type": "error",
     "traceback": [
      "\u001b[1;31m---------------------------------------------------------------------------\u001b[0m",
      "\u001b[1;31mFileNotFoundError\u001b[0m                         Traceback (most recent call last)",
      "Cell \u001b[1;32mIn[2], line 1\u001b[0m\n\u001b[1;32m----> 1\u001b[0m df_forcing \u001b[38;5;241m=\u001b[39m pd\u001b[38;5;241m.\u001b[39mread_csv(\u001b[38;5;124m'\u001b[39m\u001b[38;5;124m../tests/test_data/RFMIP_ERF_tier2_GISS-E2-1-G.csv\u001b[39m\u001b[38;5;124m'\u001b[39m)\n",
      "File \u001b[1;32mc:\\Users\\JamesK\\anaconda3\\Lib\\site-packages\\pandas\\io\\parsers\\readers.py:1026\u001b[0m, in \u001b[0;36mread_csv\u001b[1;34m(filepath_or_buffer, sep, delimiter, header, names, index_col, usecols, dtype, engine, converters, true_values, false_values, skipinitialspace, skiprows, skipfooter, nrows, na_values, keep_default_na, na_filter, verbose, skip_blank_lines, parse_dates, infer_datetime_format, keep_date_col, date_parser, date_format, dayfirst, cache_dates, iterator, chunksize, compression, thousands, decimal, lineterminator, quotechar, quoting, doublequote, escapechar, comment, encoding, encoding_errors, dialect, on_bad_lines, delim_whitespace, low_memory, memory_map, float_precision, storage_options, dtype_backend)\u001b[0m\n\u001b[0;32m   1013\u001b[0m kwds_defaults \u001b[38;5;241m=\u001b[39m _refine_defaults_read(\n\u001b[0;32m   1014\u001b[0m     dialect,\n\u001b[0;32m   1015\u001b[0m     delimiter,\n\u001b[1;32m   (...)\u001b[0m\n\u001b[0;32m   1022\u001b[0m     dtype_backend\u001b[38;5;241m=\u001b[39mdtype_backend,\n\u001b[0;32m   1023\u001b[0m )\n\u001b[0;32m   1024\u001b[0m kwds\u001b[38;5;241m.\u001b[39mupdate(kwds_defaults)\n\u001b[1;32m-> 1026\u001b[0m \u001b[38;5;28;01mreturn\u001b[39;00m _read(filepath_or_buffer, kwds)\n",
      "File \u001b[1;32mc:\\Users\\JamesK\\anaconda3\\Lib\\site-packages\\pandas\\io\\parsers\\readers.py:620\u001b[0m, in \u001b[0;36m_read\u001b[1;34m(filepath_or_buffer, kwds)\u001b[0m\n\u001b[0;32m    617\u001b[0m _validate_names(kwds\u001b[38;5;241m.\u001b[39mget(\u001b[38;5;124m\"\u001b[39m\u001b[38;5;124mnames\u001b[39m\u001b[38;5;124m\"\u001b[39m, \u001b[38;5;28;01mNone\u001b[39;00m))\n\u001b[0;32m    619\u001b[0m \u001b[38;5;66;03m# Create the parser.\u001b[39;00m\n\u001b[1;32m--> 620\u001b[0m parser \u001b[38;5;241m=\u001b[39m TextFileReader(filepath_or_buffer, \u001b[38;5;241m*\u001b[39m\u001b[38;5;241m*\u001b[39mkwds)\n\u001b[0;32m    622\u001b[0m \u001b[38;5;28;01mif\u001b[39;00m chunksize \u001b[38;5;129;01mor\u001b[39;00m iterator:\n\u001b[0;32m    623\u001b[0m     \u001b[38;5;28;01mreturn\u001b[39;00m parser\n",
      "File \u001b[1;32mc:\\Users\\JamesK\\anaconda3\\Lib\\site-packages\\pandas\\io\\parsers\\readers.py:1620\u001b[0m, in \u001b[0;36mTextFileReader.__init__\u001b[1;34m(self, f, engine, **kwds)\u001b[0m\n\u001b[0;32m   1617\u001b[0m     \u001b[38;5;28mself\u001b[39m\u001b[38;5;241m.\u001b[39moptions[\u001b[38;5;124m\"\u001b[39m\u001b[38;5;124mhas_index_names\u001b[39m\u001b[38;5;124m\"\u001b[39m] \u001b[38;5;241m=\u001b[39m kwds[\u001b[38;5;124m\"\u001b[39m\u001b[38;5;124mhas_index_names\u001b[39m\u001b[38;5;124m\"\u001b[39m]\n\u001b[0;32m   1619\u001b[0m \u001b[38;5;28mself\u001b[39m\u001b[38;5;241m.\u001b[39mhandles: IOHandles \u001b[38;5;241m|\u001b[39m \u001b[38;5;28;01mNone\u001b[39;00m \u001b[38;5;241m=\u001b[39m \u001b[38;5;28;01mNone\u001b[39;00m\n\u001b[1;32m-> 1620\u001b[0m \u001b[38;5;28mself\u001b[39m\u001b[38;5;241m.\u001b[39m_engine \u001b[38;5;241m=\u001b[39m \u001b[38;5;28mself\u001b[39m\u001b[38;5;241m.\u001b[39m_make_engine(f, \u001b[38;5;28mself\u001b[39m\u001b[38;5;241m.\u001b[39mengine)\n",
      "File \u001b[1;32mc:\\Users\\JamesK\\anaconda3\\Lib\\site-packages\\pandas\\io\\parsers\\readers.py:1880\u001b[0m, in \u001b[0;36mTextFileReader._make_engine\u001b[1;34m(self, f, engine)\u001b[0m\n\u001b[0;32m   1878\u001b[0m     \u001b[38;5;28;01mif\u001b[39;00m \u001b[38;5;124m\"\u001b[39m\u001b[38;5;124mb\u001b[39m\u001b[38;5;124m\"\u001b[39m \u001b[38;5;129;01mnot\u001b[39;00m \u001b[38;5;129;01min\u001b[39;00m mode:\n\u001b[0;32m   1879\u001b[0m         mode \u001b[38;5;241m+\u001b[39m\u001b[38;5;241m=\u001b[39m \u001b[38;5;124m\"\u001b[39m\u001b[38;5;124mb\u001b[39m\u001b[38;5;124m\"\u001b[39m\n\u001b[1;32m-> 1880\u001b[0m \u001b[38;5;28mself\u001b[39m\u001b[38;5;241m.\u001b[39mhandles \u001b[38;5;241m=\u001b[39m get_handle(\n\u001b[0;32m   1881\u001b[0m     f,\n\u001b[0;32m   1882\u001b[0m     mode,\n\u001b[0;32m   1883\u001b[0m     encoding\u001b[38;5;241m=\u001b[39m\u001b[38;5;28mself\u001b[39m\u001b[38;5;241m.\u001b[39moptions\u001b[38;5;241m.\u001b[39mget(\u001b[38;5;124m\"\u001b[39m\u001b[38;5;124mencoding\u001b[39m\u001b[38;5;124m\"\u001b[39m, \u001b[38;5;28;01mNone\u001b[39;00m),\n\u001b[0;32m   1884\u001b[0m     compression\u001b[38;5;241m=\u001b[39m\u001b[38;5;28mself\u001b[39m\u001b[38;5;241m.\u001b[39moptions\u001b[38;5;241m.\u001b[39mget(\u001b[38;5;124m\"\u001b[39m\u001b[38;5;124mcompression\u001b[39m\u001b[38;5;124m\"\u001b[39m, \u001b[38;5;28;01mNone\u001b[39;00m),\n\u001b[0;32m   1885\u001b[0m     memory_map\u001b[38;5;241m=\u001b[39m\u001b[38;5;28mself\u001b[39m\u001b[38;5;241m.\u001b[39moptions\u001b[38;5;241m.\u001b[39mget(\u001b[38;5;124m\"\u001b[39m\u001b[38;5;124mmemory_map\u001b[39m\u001b[38;5;124m\"\u001b[39m, \u001b[38;5;28;01mFalse\u001b[39;00m),\n\u001b[0;32m   1886\u001b[0m     is_text\u001b[38;5;241m=\u001b[39mis_text,\n\u001b[0;32m   1887\u001b[0m     errors\u001b[38;5;241m=\u001b[39m\u001b[38;5;28mself\u001b[39m\u001b[38;5;241m.\u001b[39moptions\u001b[38;5;241m.\u001b[39mget(\u001b[38;5;124m\"\u001b[39m\u001b[38;5;124mencoding_errors\u001b[39m\u001b[38;5;124m\"\u001b[39m, \u001b[38;5;124m\"\u001b[39m\u001b[38;5;124mstrict\u001b[39m\u001b[38;5;124m\"\u001b[39m),\n\u001b[0;32m   1888\u001b[0m     storage_options\u001b[38;5;241m=\u001b[39m\u001b[38;5;28mself\u001b[39m\u001b[38;5;241m.\u001b[39moptions\u001b[38;5;241m.\u001b[39mget(\u001b[38;5;124m\"\u001b[39m\u001b[38;5;124mstorage_options\u001b[39m\u001b[38;5;124m\"\u001b[39m, \u001b[38;5;28;01mNone\u001b[39;00m),\n\u001b[0;32m   1889\u001b[0m )\n\u001b[0;32m   1890\u001b[0m \u001b[38;5;28;01massert\u001b[39;00m \u001b[38;5;28mself\u001b[39m\u001b[38;5;241m.\u001b[39mhandles \u001b[38;5;129;01mis\u001b[39;00m \u001b[38;5;129;01mnot\u001b[39;00m \u001b[38;5;28;01mNone\u001b[39;00m\n\u001b[0;32m   1891\u001b[0m f \u001b[38;5;241m=\u001b[39m \u001b[38;5;28mself\u001b[39m\u001b[38;5;241m.\u001b[39mhandles\u001b[38;5;241m.\u001b[39mhandle\n",
      "File \u001b[1;32mc:\\Users\\JamesK\\anaconda3\\Lib\\site-packages\\pandas\\io\\common.py:873\u001b[0m, in \u001b[0;36mget_handle\u001b[1;34m(path_or_buf, mode, encoding, compression, memory_map, is_text, errors, storage_options)\u001b[0m\n\u001b[0;32m    868\u001b[0m \u001b[38;5;28;01melif\u001b[39;00m \u001b[38;5;28misinstance\u001b[39m(handle, \u001b[38;5;28mstr\u001b[39m):\n\u001b[0;32m    869\u001b[0m     \u001b[38;5;66;03m# Check whether the filename is to be opened in binary mode.\u001b[39;00m\n\u001b[0;32m    870\u001b[0m     \u001b[38;5;66;03m# Binary mode does not support 'encoding' and 'newline'.\u001b[39;00m\n\u001b[0;32m    871\u001b[0m     \u001b[38;5;28;01mif\u001b[39;00m ioargs\u001b[38;5;241m.\u001b[39mencoding \u001b[38;5;129;01mand\u001b[39;00m \u001b[38;5;124m\"\u001b[39m\u001b[38;5;124mb\u001b[39m\u001b[38;5;124m\"\u001b[39m \u001b[38;5;129;01mnot\u001b[39;00m \u001b[38;5;129;01min\u001b[39;00m ioargs\u001b[38;5;241m.\u001b[39mmode:\n\u001b[0;32m    872\u001b[0m         \u001b[38;5;66;03m# Encoding\u001b[39;00m\n\u001b[1;32m--> 873\u001b[0m         handle \u001b[38;5;241m=\u001b[39m \u001b[38;5;28mopen\u001b[39m(\n\u001b[0;32m    874\u001b[0m             handle,\n\u001b[0;32m    875\u001b[0m             ioargs\u001b[38;5;241m.\u001b[39mmode,\n\u001b[0;32m    876\u001b[0m             encoding\u001b[38;5;241m=\u001b[39mioargs\u001b[38;5;241m.\u001b[39mencoding,\n\u001b[0;32m    877\u001b[0m             errors\u001b[38;5;241m=\u001b[39merrors,\n\u001b[0;32m    878\u001b[0m             newline\u001b[38;5;241m=\u001b[39m\u001b[38;5;124m\"\u001b[39m\u001b[38;5;124m\"\u001b[39m,\n\u001b[0;32m    879\u001b[0m         )\n\u001b[0;32m    880\u001b[0m     \u001b[38;5;28;01melse\u001b[39;00m:\n\u001b[0;32m    881\u001b[0m         \u001b[38;5;66;03m# Binary mode\u001b[39;00m\n\u001b[0;32m    882\u001b[0m         handle \u001b[38;5;241m=\u001b[39m \u001b[38;5;28mopen\u001b[39m(handle, ioargs\u001b[38;5;241m.\u001b[39mmode)\n",
      "\u001b[1;31mFileNotFoundError\u001b[0m: [Errno 2] No such file or directory: '../tests/test_data/RFMIP_ERF_tier2_GISS-E2-1-G.csv'"
     ]
    }
   ],
   "source": [
    "df_forcing = pd.read_csv('../tests/test_data/RFMIP_ERF_tier2_GISS-E2-1-G.csv')"
   ]
  },
  {
   "cell_type": "code",
   "execution_count": null,
   "id": "3",
   "metadata": {},
   "outputs": [],
   "source": [
    "ebm3 = EnergyBalanceModel(\n",
    "    ocean_heat_capacity=[3.62, 9.47, 98.66],\n",
    "    ocean_heat_transfer=[0.54, 2.39, 0.63],\n",
    "    deep_ocean_efficacy=1.59,\n",
    "    gamma_autocorrelation=1.73,\n",
    "    sigma_xi=0.32,\n",
    "    sigma_eta=0.43,\n",
    "    forcing_4co2=6.35,\n",
    "    stochastic_run=True,\n",
    "    seed=16\n",
    ")"
   ]
  },
  {
   "cell_type": "code",
   "execution_count": null,
   "id": "4",
   "metadata": {},
   "outputs": [],
   "source": [
    "ebm3.add_forcing(forcing = df_forcing['GISS-E2-1-G TOT'].values, timestep=1)"
   ]
  },
  {
   "cell_type": "code",
   "execution_count": null,
   "id": "5",
   "metadata": {},
   "outputs": [],
   "source": [
    "ebm3.run()"
   ]
  },
  {
   "cell_type": "code",
   "execution_count": null,
   "id": "6",
   "metadata": {},
   "outputs": [],
   "source": [
    "ebm3.temperature"
   ]
  },
  {
   "cell_type": "code",
   "execution_count": null,
   "id": "7",
   "metadata": {},
   "outputs": [],
   "source": [
    "time = np.arange(1850.5, 2101)"
   ]
  },
  {
   "cell_type": "code",
   "execution_count": null,
   "id": "8",
   "metadata": {},
   "outputs": [],
   "source": [
    "pl.plot(time, ebm3.temperature[:,0], label='surface / top ocean layer')\n",
    "pl.plot(time, ebm3.temperature[:,1], label='second ocean layer')\n",
    "pl.plot(time, ebm3.temperature[:,2], label='deep ocean layer')\n",
    "pl.ylabel('K relative to 1850')\n",
    "pl.title('SSP2-4.5 temperature change')\n",
    "pl.legend()"
   ]
  },
  {
   "cell_type": "code",
   "execution_count": null,
   "id": "9",
   "metadata": {},
   "outputs": [],
   "source": [
    "ebm3.emergent_parameters()\n",
    "ebm3.ecs, ebm3.tcr"
   ]
  },
  {
   "cell_type": "code",
   "execution_count": null,
   "id": "10",
   "metadata": {},
   "outputs": [],
   "source": [
    "ebm2 = EnergyBalanceModel(\n",
    "    ocean_heat_capacity=[7.73, 89.29],\n",
    "    ocean_heat_transfer=[0.63, 0.52],\n",
    "    deep_ocean_efficacy=1.52,\n",
    "    gamma_autocorrelation=1.58,\n",
    "    sigma_xi=0.64,\n",
    "    sigma_eta=0.43,\n",
    "    stochastic_run=True,\n",
    "    forcing_4co2=6.86,\n",
    "    seed=16\n",
    ")"
   ]
  },
  {
   "cell_type": "code",
   "execution_count": null,
   "id": "11",
   "metadata": {},
   "outputs": [],
   "source": [
    "ebm2.add_forcing(forcing = df_forcing['GISS-E2-1-G TOT'].values, timestep=1)"
   ]
  },
  {
   "cell_type": "code",
   "execution_count": null,
   "id": "12",
   "metadata": {},
   "outputs": [],
   "source": [
    "ebm2.emergent_parameters()\n",
    "ebm2.ecs, ebm2.tcr"
   ]
  },
  {
   "cell_type": "code",
   "execution_count": null,
   "id": "13",
   "metadata": {},
   "outputs": [],
   "source": [
    "ebm2.run()"
   ]
  },
  {
   "cell_type": "code",
   "execution_count": null,
   "id": "14",
   "metadata": {},
   "outputs": [],
   "source": [
    "pl.plot(time, ebm2.temperature[:,0], label='surface / top ocean layer')\n",
    "pl.plot(time, ebm2.temperature[:,1], label='deep ocean layer')\n",
    "pl.ylabel('K relative to 1850')\n",
    "pl.title('SSP2-4.5 temperature change')\n",
    "pl.legend()"
   ]
  },
  {
   "cell_type": "code",
   "execution_count": null,
   "id": "15",
   "metadata": {},
   "outputs": [],
   "source": [
    "# this is not based on a tuning to any existing CMIP6 model, but I try to get the TCR close to the \n",
    "# HadGEM2 2- and 3-layer cases.\n",
    "ebm4 = EnergyBalanceModel(\n",
    "    ocean_heat_capacity=[1.3, 9, 20, 80],\n",
    "    ocean_heat_transfer=[0.54, 3, 3, 0.63],\n",
    "    deep_ocean_efficacy=1.2,\n",
    "    gamma_autocorrelation=1.73,\n",
    "    sigma_xi=0.32,\n",
    "    sigma_eta=0.43,\n",
    "    forcing_4co2=6.35,\n",
    "    stochastic_run=True,\n",
    "    seed=16\n",
    ")"
   ]
  },
  {
   "cell_type": "code",
   "execution_count": null,
   "id": "16",
   "metadata": {},
   "outputs": [],
   "source": [
    "ebm4.emergent_parameters()\n",
    "ebm4.ecs, ebm4.tcr"
   ]
  },
  {
   "cell_type": "code",
   "execution_count": null,
   "id": "17",
   "metadata": {},
   "outputs": [],
   "source": [
    "ebm4.add_forcing(forcing = df_forcing['GISS-E2-1-G TOT'].values, timestep=1)"
   ]
  },
  {
   "cell_type": "code",
   "execution_count": null,
   "id": "18",
   "metadata": {},
   "outputs": [],
   "source": [
    "ebm4.run()"
   ]
  },
  {
   "cell_type": "code",
   "execution_count": null,
   "id": "19",
   "metadata": {},
   "outputs": [],
   "source": [
    "pl.plot(time, ebm4.temperature[:,0], label='surface / top ocean layer')\n",
    "pl.plot(time, ebm4.temperature[:,1], label='second ocean layer')\n",
    "pl.plot(time, ebm4.temperature[:,2], label='third ocean layer')\n",
    "pl.plot(time, ebm4.temperature[:,3], label='deep ocean layer')\n",
    "pl.ylabel('K relative to 1850')\n",
    "pl.title('SSP2-4.5 temperature change')\n",
    "pl.legend()"
   ]
  },
  {
   "cell_type": "code",
   "execution_count": null,
   "id": "20",
   "metadata": {},
   "outputs": [],
   "source": [
    "# let's go totally crazy\n",
    "ebm10 = EnergyBalanceModel(\n",
    "    ocean_heat_capacity=[0.6, 1.3, 2, 5, 7, 10, 45, 70, 80, 130],\n",
    "    ocean_heat_transfer=[0.54, 4, 5, 5, 5, 5, 5, 5, 5, 0.63],\n",
    "    deep_ocean_efficacy=1.2,\n",
    "    gamma_autocorrelation=1.73,\n",
    "    sigma_xi=0.32,\n",
    "    sigma_eta=0.43,\n",
    "    forcing_4co2=6.35,\n",
    "    stochastic_run=True,\n",
    "    seed=16\n",
    ")"
   ]
  },
  {
   "cell_type": "code",
   "execution_count": null,
   "id": "21",
   "metadata": {},
   "outputs": [],
   "source": [
    "ebm10.emergent_parameters()\n",
    "ebm10.ecs, ebm10.tcr"
   ]
  },
  {
   "cell_type": "code",
   "execution_count": null,
   "id": "22",
   "metadata": {},
   "outputs": [],
   "source": [
    "ebm10.add_forcing(forcing = df_forcing['GISS-E2-1-G TOT'].values, timestep=1)"
   ]
  },
  {
   "cell_type": "code",
   "execution_count": null,
   "id": "23",
   "metadata": {},
   "outputs": [],
   "source": [
    "ebm10.run()"
   ]
  },
  {
   "cell_type": "code",
   "execution_count": null,
   "id": "24",
   "metadata": {},
   "outputs": [],
   "source": [
    "pl.plot(time, ebm10.temperature[:,0], label='surface / top ocean layer')\n",
    "pl.plot(time, ebm10.temperature[:,1], label='second ocean layer')\n",
    "pl.plot(time, ebm10.temperature[:,2], label='third ocean layer')\n",
    "pl.plot(time, ebm10.temperature[:,3], label='fourth ocean layer')\n",
    "pl.plot(time, ebm10.temperature[:,4], label='fifth ocean layer')\n",
    "pl.plot(time, ebm10.temperature[:,5], label='sixth ocean layer')\n",
    "pl.plot(time, ebm10.temperature[:,6], label='seventh ocean layer')\n",
    "pl.plot(time, ebm10.temperature[:,7], label='eighth ocean layer')\n",
    "pl.plot(time, ebm10.temperature[:,8], label='ninth ocean layer')\n",
    "pl.plot(time, ebm10.temperature[:,9], label='deep ocean layer')\n",
    "pl.ylabel('K relative to 1850')\n",
    "pl.title('SSP2-4.5 temperature change')\n",
    "pl.legend()"
   ]
  },
  {
   "cell_type": "code",
   "execution_count": null,
   "id": "25",
   "metadata": {},
   "outputs": [],
   "source": [
    "pl.plot(time, ebm2.temperature[:,0], label='two layer model')\n",
    "pl.plot(time, ebm3.temperature[:,0], label='three layer model')\n",
    "pl.plot(time, ebm4.temperature[:,0], label='four layer model')\n",
    "pl.plot(time, ebm10.temperature[:,0], label='ten layer model')\n",
    "pl.ylabel('K relative to 1850')\n",
    "pl.title('SSP2-4.5 temperature change')\n",
    "pl.legend()"
   ]
  },
  {
   "cell_type": "code",
   "execution_count": null,
   "id": "26",
   "metadata": {},
   "outputs": [],
   "source": [
    "pl.plot(time, ebm2.toa_imbalance, label='two layer model')\n",
    "pl.plot(time, ebm3.toa_imbalance, label='three layer model')\n",
    "pl.plot(time, ebm4.toa_imbalance, label='four layer model')\n",
    "pl.plot(time, ebm10.toa_imbalance, label='ten layer model')\n",
    "pl.ylabel('W/m2 relative to 1850')\n",
    "pl.title('SSP2-4.5 TOA radiation change')\n",
    "pl.legend()"
   ]
  },
  {
   "cell_type": "markdown",
   "id": "27",
   "metadata": {},
   "source": [
    "## Repeat everything with stochastic forcing switched off"
   ]
  },
  {
   "cell_type": "code",
   "execution_count": null,
   "id": "28",
   "metadata": {},
   "outputs": [],
   "source": [
    "ebm3 = EnergyBalanceModel(\n",
    "    ocean_heat_capacity=[3.62, 9.47, 98.66],\n",
    "    ocean_heat_transfer=[0.54, 2.39, 0.63],\n",
    "    deep_ocean_efficacy=1.59,\n",
    "    gamma_autocorrelation=1.73,\n",
    "    sigma_xi=0.32,\n",
    "    sigma_eta=0.43,\n",
    "    forcing_4co2=6.35,\n",
    "    stochastic_run=False,\n",
    "    seed=16\n",
    ")"
   ]
  },
  {
   "cell_type": "code",
   "execution_count": null,
   "id": "29",
   "metadata": {},
   "outputs": [],
   "source": [
    "ebm3.add_forcing(forcing = df_forcing['GISS-E2-1-G TOT'].values, timestep=1)"
   ]
  },
  {
   "cell_type": "code",
   "execution_count": null,
   "id": "30",
   "metadata": {},
   "outputs": [],
   "source": [
    "ebm3.run()"
   ]
  },
  {
   "cell_type": "code",
   "execution_count": null,
   "id": "31",
   "metadata": {},
   "outputs": [],
   "source": [
    "ebm3.temperature"
   ]
  },
  {
   "cell_type": "code",
   "execution_count": null,
   "id": "32",
   "metadata": {},
   "outputs": [],
   "source": [
    "time = np.arange(1850.5, 2101)"
   ]
  },
  {
   "cell_type": "code",
   "execution_count": null,
   "id": "33",
   "metadata": {},
   "outputs": [],
   "source": [
    "pl.plot(time, ebm3.temperature[:,0], label='surface / top ocean layer')\n",
    "pl.plot(time, ebm3.temperature[:,1], label='second ocean layer')\n",
    "pl.plot(time, ebm3.temperature[:,2], label='deep ocean layer')\n",
    "pl.ylabel('K relative to 1850')\n",
    "pl.title('SSP2-4.5 temperature change')\n",
    "pl.legend()"
   ]
  },
  {
   "cell_type": "code",
   "execution_count": null,
   "id": "34",
   "metadata": {},
   "outputs": [],
   "source": [
    "ebm3.emergent_parameters()\n",
    "ebm3.ecs, ebm3.tcr"
   ]
  },
  {
   "cell_type": "code",
   "execution_count": null,
   "id": "35",
   "metadata": {},
   "outputs": [],
   "source": [
    "ebm2 = EnergyBalanceModel(\n",
    "    ocean_heat_capacity=[7.73, 89.29],\n",
    "    ocean_heat_transfer=[0.63, 0.52],\n",
    "    deep_ocean_efficacy=1.52,\n",
    "    gamma_autocorrelation=1.58,\n",
    "    sigma_xi=0.64,\n",
    "    sigma_eta=0.43,\n",
    "    stochastic_run=False,\n",
    "    forcing_4co2=6.86,\n",
    "    seed=16\n",
    ")"
   ]
  },
  {
   "cell_type": "code",
   "execution_count": null,
   "id": "36",
   "metadata": {},
   "outputs": [],
   "source": [
    "ebm2.add_forcing(forcing = df_forcing['GISS-E2-1-G TOT'].values, timestep=1)"
   ]
  },
  {
   "cell_type": "code",
   "execution_count": null,
   "id": "37",
   "metadata": {},
   "outputs": [],
   "source": [
    "ebm2.emergent_parameters()\n",
    "ebm2.ecs, ebm2.tcr"
   ]
  },
  {
   "cell_type": "code",
   "execution_count": null,
   "id": "38",
   "metadata": {},
   "outputs": [],
   "source": [
    "ebm2.run()"
   ]
  },
  {
   "cell_type": "code",
   "execution_count": null,
   "id": "39",
   "metadata": {},
   "outputs": [],
   "source": [
    "pl.plot(time, ebm2.temperature[:,0], label='surface / top ocean layer')\n",
    "pl.plot(time, ebm2.temperature[:,1], label='deep ocean layer')\n",
    "pl.ylabel('K relative to 1850')\n",
    "pl.title('SSP2-4.5 temperature change')\n",
    "pl.legend()"
   ]
  },
  {
   "cell_type": "code",
   "execution_count": null,
   "id": "40",
   "metadata": {},
   "outputs": [],
   "source": [
    "# this is not based on a tuning to any existing CMIP6 model, but I try to get the TCR close to the \n",
    "# HadGEM2 2- and 3-layer cases.\n",
    "ebm4 = EnergyBalanceModel(\n",
    "    ocean_heat_capacity=[1.3, 9, 20, 80],\n",
    "    ocean_heat_transfer=[0.54, 3, 3, 0.63],\n",
    "    deep_ocean_efficacy=1.2,\n",
    "    gamma_autocorrelation=1.73,\n",
    "    sigma_xi=0.32,\n",
    "    sigma_eta=0.43,\n",
    "    forcing_4co2=6.35,\n",
    "    stochastic_run=False,\n",
    "    seed=16\n",
    ")"
   ]
  },
  {
   "cell_type": "code",
   "execution_count": null,
   "id": "41",
   "metadata": {},
   "outputs": [],
   "source": [
    "ebm4.emergent_parameters()\n",
    "ebm4.ecs, ebm4.tcr"
   ]
  },
  {
   "cell_type": "code",
   "execution_count": null,
   "id": "42",
   "metadata": {},
   "outputs": [],
   "source": [
    "ebm4.add_forcing(forcing = df_forcing['GISS-E2-1-G TOT'].values, timestep=1)"
   ]
  },
  {
   "cell_type": "code",
   "execution_count": null,
   "id": "43",
   "metadata": {},
   "outputs": [],
   "source": [
    "ebm4.run()"
   ]
  },
  {
   "cell_type": "code",
   "execution_count": null,
   "id": "44",
   "metadata": {},
   "outputs": [],
   "source": [
    "pl.plot(time, ebm4.temperature[:,0], label='surface / top ocean layer')\n",
    "pl.plot(time, ebm4.temperature[:,1], label='second ocean layer')\n",
    "pl.plot(time, ebm4.temperature[:,2], label='third ocean layer')\n",
    "pl.plot(time, ebm4.temperature[:,3], label='deep ocean layer')\n",
    "pl.ylabel('K relative to 1850')\n",
    "pl.title('SSP2-4.5 temperature change')\n",
    "pl.legend()"
   ]
  },
  {
   "cell_type": "code",
   "execution_count": null,
   "id": "45",
   "metadata": {},
   "outputs": [],
   "source": [
    "# let's go totally crazy\n",
    "ebm10 = EnergyBalanceModel(\n",
    "    ocean_heat_capacity=[0.6, 1.3, 2, 5, 7, 10, 45, 70, 80, 130],\n",
    "    ocean_heat_transfer=[0.54, 4, 5, 5, 5, 5, 5, 5, 5, 0.63],\n",
    "    deep_ocean_efficacy=1.2,\n",
    "    gamma_autocorrelation=1.73,\n",
    "    sigma_xi=0.32,\n",
    "    sigma_eta=0.43,\n",
    "    forcing_4co2=6.35,\n",
    "    stochastic_run=False,\n",
    "    seed=16\n",
    ")"
   ]
  },
  {
   "cell_type": "code",
   "execution_count": null,
   "id": "46",
   "metadata": {},
   "outputs": [],
   "source": [
    "ebm10.emergent_parameters()\n",
    "ebm10.ecs, ebm10.tcr"
   ]
  },
  {
   "cell_type": "code",
   "execution_count": null,
   "id": "47",
   "metadata": {},
   "outputs": [],
   "source": [
    "ebm10.add_forcing(forcing = df_forcing['GISS-E2-1-G TOT'].values, timestep=1)"
   ]
  },
  {
   "cell_type": "code",
   "execution_count": null,
   "id": "48",
   "metadata": {},
   "outputs": [],
   "source": [
    "ebm10.run()"
   ]
  },
  {
   "cell_type": "code",
   "execution_count": null,
   "id": "49",
   "metadata": {},
   "outputs": [],
   "source": [
    "pl.plot(time, ebm10.temperature[:,0], label='surface / top ocean layer')\n",
    "pl.plot(time, ebm10.temperature[:,1], label='second ocean layer')\n",
    "pl.plot(time, ebm10.temperature[:,2], label='third ocean layer')\n",
    "pl.plot(time, ebm10.temperature[:,3], label='fourth ocean layer')\n",
    "pl.plot(time, ebm10.temperature[:,4], label='fifth ocean layer')\n",
    "pl.plot(time, ebm10.temperature[:,5], label='sixth ocean layer')\n",
    "pl.plot(time, ebm10.temperature[:,6], label='seventh ocean layer')\n",
    "pl.plot(time, ebm10.temperature[:,7], label='eighth ocean layer')\n",
    "pl.plot(time, ebm10.temperature[:,8], label='ninth ocean layer')\n",
    "pl.plot(time, ebm10.temperature[:,9], label='deep ocean layer')\n",
    "pl.ylabel('K relative to 1850')\n",
    "pl.title('SSP2-4.5 temperature change')\n",
    "pl.legend()"
   ]
  },
  {
   "cell_type": "code",
   "execution_count": null,
   "id": "50",
   "metadata": {},
   "outputs": [],
   "source": [
    "pl.plot(time, ebm2.temperature[:,0], label='two layer model')\n",
    "pl.plot(time, ebm3.temperature[:,0], label='three layer model')\n",
    "pl.plot(time, ebm4.temperature[:,0], label='four layer model')\n",
    "pl.plot(time, ebm10.temperature[:,0], label='ten layer model')\n",
    "pl.ylabel('K relative to 1850')\n",
    "pl.title('SSP2-4.5 temperature change')\n",
    "pl.legend()"
   ]
  },
  {
   "cell_type": "code",
   "execution_count": null,
   "id": "51",
   "metadata": {},
   "outputs": [],
   "source": [
    "pl.plot(time, ebm2.toa_imbalance, label='two layer model')\n",
    "pl.plot(time, ebm3.toa_imbalance, label='three layer model')\n",
    "pl.plot(time, ebm4.toa_imbalance, label='four layer model')\n",
    "pl.plot(time, ebm10.toa_imbalance, label='ten layer model')\n",
    "pl.ylabel('W/m2 relative to 1850')\n",
    "pl.title('SSP2-4.5 TOA radiation change')\n",
    "pl.legend()"
   ]
  },
  {
   "cell_type": "code",
   "execution_count": null,
   "id": "52",
   "metadata": {},
   "outputs": [],
   "source": []
  }
 ],
 "metadata": {
  "kernelspec": {
   "display_name": "Python 3 (ipykernel)",
   "language": "python",
   "name": "python3"
  },
  "language_info": {
   "codemirror_mode": {
    "name": "ipython",
    "version": 3
   },
   "file_extension": ".py",
   "mimetype": "text/x-python",
   "name": "python",
   "nbconvert_exporter": "python",
   "pygments_lexer": "ipython3",
   "version": "3.12.3"
  }
 },
 "nbformat": 4,
 "nbformat_minor": 5
}
